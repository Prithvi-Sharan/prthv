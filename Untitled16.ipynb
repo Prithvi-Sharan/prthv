{
  "nbformat": 4,
  "nbformat_minor": 0,
  "metadata": {
    "colab": {
      "name": "Untitled16.ipynb",
      "provenance": [],
      "authorship_tag": "ABX9TyMoPdhC9gRiV2nRetHMw+p/",
      "include_colab_link": true
    },
    "kernelspec": {
      "name": "python3",
      "display_name": "Python 3"
    },
    "language_info": {
      "name": "python"
    }
  },
  "cells": [
    {
      "cell_type": "markdown",
      "metadata": {
        "id": "view-in-github",
        "colab_type": "text"
      },
      "source": [
        "<a href=\"https://colab.research.google.com/github/Prithvi-Sharan/prthv/blob/master/Untitled16.ipynb\" target=\"_parent\"><img src=\"https://colab.research.google.com/assets/colab-badge.svg\" alt=\"Open In Colab\"/></a>"
      ]
    },
    {
      "cell_type": "code",
      "metadata": {
        "colab": {
          "base_uri": "https://localhost:8080/"
        },
        "id": "z7RZCMMT5LTV",
        "outputId": "188ae8ad-b5dc-41f5-f9ba-2d82669400fd"
      },
      "source": [
        "!pip install pycrypto"
      ],
      "execution_count": null,
      "outputs": [
        {
          "output_type": "stream",
          "text": [
            "Collecting pycrypto\n",
            "\u001b[?25l  Downloading https://files.pythonhosted.org/packages/60/db/645aa9af249f059cc3a368b118de33889219e0362141e75d4eaf6f80f163/pycrypto-2.6.1.tar.gz (446kB)\n",
            "\u001b[K     |████████████████████████████████| 450kB 3.9MB/s \n",
            "\u001b[?25hBuilding wheels for collected packages: pycrypto\n",
            "  Building wheel for pycrypto (setup.py) ... \u001b[?25l\u001b[?25hdone\n",
            "  Created wheel for pycrypto: filename=pycrypto-2.6.1-cp37-cp37m-linux_x86_64.whl size=499931 sha256=bceb4bbf35d8880dc687bfcaf7fd8fd8dcd9505c6d812eec2ea3a1285d5242d5\n",
            "  Stored in directory: /root/.cache/pip/wheels/27/02/5e/77a69d0c16bb63c6ed32f5386f33a2809c94bd5414a2f6c196\n",
            "Successfully built pycrypto\n",
            "Installing collected packages: pycrypto\n",
            "Successfully installed pycrypto-2.6.1\n"
          ],
          "name": "stdout"
        }
      ]
    },
    {
      "cell_type": "code",
      "metadata": {
        "colab": {
          "base_uri": "https://localhost:8080/"
        },
        "id": "9aQSf5md5E3H",
        "outputId": "30591b56-a51e-4850-9296-1235dda62cea"
      },
      "source": [
        "\n",
        "import os\n",
        "from Crypto.Cipher import AES\n",
        "from Crypto.Hash import SHA256\n",
        "from Crypto import Random\n",
        "\n",
        "\n",
        "def encrypt(key, filename):\n",
        "    chunksize = 64 * 1024\n",
        "    outputFile = \"(encrypted)\" + filename\n",
        "    filesize = str(os.path.getsize(filename)).zfill(16)\n",
        "    IV = Random.new().read(16)\n",
        "\n",
        "    encryptor = AES.new(key, AES.MODE_CBC, IV)\n",
        "\n",
        "    with open(filename, 'rb') as infile:\n",
        "        with open(outputFile, 'wb') as outfile:\n",
        "            outfile.write(filesize.encode('utf-8'))\n",
        "            outfile.write(IV)\n",
        "\n",
        "            while True:\n",
        "                chunk = infile.read(chunksize)\n",
        "\n",
        "                if len(chunk) == 0:\n",
        "                    break\n",
        "                elif len(chunk) % 16 != 0:\n",
        "                    chunk += b' ' * (16 - (len(chunk) % 16))\n",
        "\n",
        "                outfile.write(encryptor.encrypt(chunk))\n",
        "\n",
        "\n",
        "def decrypt(key, filename):\n",
        "    chunksize = 64 * 1024\n",
        "    outputFile = filename[11:]\n",
        "\n",
        "    with open(filename, 'rb') as infile:\n",
        "        filesize = int(infile.read(16))\n",
        "        IV = infile.read(16)\n",
        "\n",
        "        decryptor = AES.new(key, AES.MODE_CBC, IV)\n",
        "\n",
        "        with open(outputFile, 'wb') as outfile:\n",
        "            while True:\n",
        "                chunk = infile.read(chunksize)\n",
        "\n",
        "                if len(chunk) == 0:\n",
        "                    break\n",
        "\n",
        "                outfile.write(decryptor.decrypt(chunk))\n",
        "            outfile.truncate(filesize)\n",
        "\n",
        "\n",
        "def getKey(password):\n",
        "    hasher = SHA256.new(password.encode('utf-8'))\n",
        "    return hasher.digest()\n",
        "\n",
        "\n",
        "def Main():\n",
        "    choice = input(\"Would you like to (E)ncrypt or (D)ecrypt?: \")\n",
        "    if choice == 'E' or choice == 'e':\n",
        "        filename = input(\"File to encrypt: \")\n",
        "        password = input(\"Password: \")\n",
        "        encrypt(getKey(password), filename)\n",
        "        print(\"Done.\")\n",
        "    elif choice == 'D' or choice == 'd':\n",
        "        filename = input(\"File to decrypt: \")\n",
        "        password = input(\"Password: \")\n",
        "        decrypt(getKey(password), filename)\n",
        "        print(\"Done.\")\n",
        "    else:\n",
        "        print(\"No Option selected, closing...\")\n",
        "\n",
        "\n",
        "if __name__ == '__main__':\n",
        "    Main()"
      ],
      "execution_count": null,
      "outputs": [
        {
          "output_type": "stream",
          "text": [
            "Would you like to (E)ncrypt or (D)ecrypt?: E\n",
            "File to encrypt: 1.jpg\n",
            "Password: mypassword\n",
            "Done.\n"
          ],
          "name": "stdout"
        }
      ]
    },
    {
      "cell_type": "code",
      "metadata": {
        "id": "S7t0gVua5H1e"
      },
      "source": [
        ""
      ],
      "execution_count": null,
      "outputs": []
    }
  ]
}