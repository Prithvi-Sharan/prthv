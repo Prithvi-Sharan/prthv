{
  "nbformat": 4,
  "nbformat_minor": 0,
  "metadata": {
    "kernelspec": {
      "display_name": "Python 3",
      "language": "python",
      "name": "python3"
    },
    "language_info": {
      "name": "python",
      "version": "3.6.6",
      "mimetype": "text/x-python",
      "codemirror_mode": {
        "name": "ipython",
        "version": 3
      },
      "pygments_lexer": "ipython3",
      "nbconvert_exporter": "python",
      "file_extension": ".py"
    },
    "colab": {
      "name": "using-keras-to-decrypt-md5-dev.ipynb",
      "provenance": [],
      "include_colab_link": true
    }
  },
  "cells": [
    {
      "cell_type": "markdown",
      "metadata": {
        "id": "view-in-github",
        "colab_type": "text"
      },
      "source": [
        "<a href=\"https://colab.research.google.com/github/Prithvi-Sharan/prthv/blob/master/using_keras_to_decrypt_md5_dev.ipynb\" target=\"_parent\"><img src=\"https://colab.research.google.com/assets/colab-badge.svg\" alt=\"Open In Colab\"/></a>"
      ]
    },
    {
      "cell_type": "markdown",
      "metadata": {
        "_uuid": "03e9b6b352811ac59e9c50ec84c1d4a3d92e2a9b",
        "id": "b2DWbusZCwMr"
      },
      "source": [
        "**Using Keras to Decrypt MD5.**\n",
        "\n",
        "Current results is 16% accuracy.\n",
        "\n",
        "While this prediction rate is extremely low, it proves hash decryption is possible.\n",
        "\n",
        "Further refinement should improve accuracy.\n",
        "\n",
        "Additional features have been streamlined to increase dev speed.\n",
        "\n",
        "Testing has been limited to 8 character passwords."
      ]
    },
    {
      "cell_type": "code",
      "metadata": {
        "_uuid": "8f2839f25d086af736a60e9eeb907d3b93b6e0e5",
        "_cell_guid": "b1076dfc-b9ad-4769-8c92-a6c4dae69d19",
        "trusted": true,
        "id": "oLkQiQk3CwMu"
      },
      "source": [
        "# Math Imports\n",
        "import numpy as np  # linear algebra\n",
        "# fix random seed for reproducibility\n",
        "np.random.seed(0)\n",
        "\n",
        "import pandas as pd  # data processing, CSV file I/O (e.g. pd.read_csv)\n",
        "# from tqdm import tqdm\n",
        "import hashlib\n",
        "import gc\n",
        "\n",
        "import matplotlib as mp\n",
        "import matplotlib.pyplot as plt"
      ],
      "execution_count": null,
      "outputs": []
    },
    {
      "cell_type": "code",
      "metadata": {
        "trusted": true,
        "_uuid": "b6cc23bf840ac19729920477dd7894378ab22629",
        "id": "EM54VeLrCwMw"
      },
      "source": [
        "# See https://www.tensorflow.org/tutorials/using_gpu#allowing_gpu_memory_growth\n",
        "import tensorflow as tf \n",
        "config = tf.ConfigProto()\n",
        "config.gpu_options.allow_growth = True\n",
        "print(tf.test.gpu_device_name())\n",
        "sess = tf.Session()"
      ],
      "execution_count": null,
      "outputs": []
    },
    {
      "cell_type": "code",
      "metadata": {
        "trusted": true,
        "_uuid": "859b0bc3c6df3187dc52839da5f15af9f2b403d5",
        "id": "pagRyuGECwMw"
      },
      "source": [
        "# Keras Imports\n",
        "from keras.models import Sequential\n",
        "from keras.layers import Dense, BatchNormalization, Dropout\n",
        "from keras.callbacks import EarlyStopping, ModelCheckpoint, Callback"
      ],
      "execution_count": null,
      "outputs": []
    },
    {
      "cell_type": "markdown",
      "metadata": {
        "_uuid": "13191a67f333899cdb96761eb0d9686859b70c0d",
        "id": "w6Hd5tQvCwMw"
      },
      "source": [
        "GetBest(Callback) class hidden, used to track and reload best model weights."
      ]
    },
    {
      "cell_type": "code",
      "metadata": {
        "trusted": true,
        "_uuid": "d2d1e0054a68b1086ddc7be48744fe17f8ccdd24",
        "id": "2t4k8p23CwMx"
      },
      "source": [
        "# https://github.com/keras-team/keras/issues/2768\n",
        "class GetBest(Callback):\n",
        "\n",
        "    def __init__(self, monitor='val_loss', verbose=0,\n",
        "                 mode='auto', period=1):\n",
        "        super(GetBest, self).__init__()\n",
        "        self.monitor = monitor\n",
        "        self.verbose = verbose\n",
        "        self.period = period\n",
        "        self.best_epochs = 0\n",
        "        self.epochs_since_last_save = 0\n",
        "\n",
        "        if mode not in ['auto', 'min', 'max']:\n",
        "            warnings.warn('GetBest mode %s is unknown, '\n",
        "                          'fallback to auto mode.' % (mode),\n",
        "                          RuntimeWarning)\n",
        "            mode = 'auto'\n",
        "\n",
        "        if mode == 'min':\n",
        "            self.monitor_op = np.less\n",
        "            self.best = np.Inf\n",
        "        elif mode == 'max':\n",
        "            self.monitor_op = np.greater\n",
        "            self.best = -np.Inf\n",
        "        else:\n",
        "            if 'acc' in self.monitor or self.monitor.startswith('fmeasure'):\n",
        "                self.monitor_op = np.greater\n",
        "                self.best = -np.Inf\n",
        "            else:\n",
        "                self.monitor_op = np.less\n",
        "                self.best = np.Inf\n",
        "                \n",
        "    def on_train_begin(self, logs=None):\n",
        "        self.best_weights = self.model.get_weights()\n",
        "\n",
        "    def on_epoch_end(self, epoch, logs=None):\n",
        "        logs = logs or {}\n",
        "        self.epochs_since_last_save += 1\n",
        "        if self.epochs_since_last_save >= self.period:\n",
        "            self.epochs_since_last_save = 0\n",
        "            #filepath = self.filepath.format(epoch=epoch + 1, **logs)\n",
        "            current = logs.get(self.monitor)\n",
        "            if current is None:\n",
        "                warnings.warn('Can pick best model only with %s available, '\n",
        "                              'skipping.' % (self.monitor), RuntimeWarning)\n",
        "            else:\n",
        "                if self.monitor_op(current, self.best):\n",
        "                    if self.verbose > 0:\n",
        "                        print('\\nEpoch %05d: %s improved from %0.5f to %0.5f,'\n",
        "                              ' storing weights.'\n",
        "                              % (epoch + 1, self.monitor, self.best,\n",
        "                                 current))\n",
        "                    self.best = current\n",
        "                    self.best_epochs = epoch + 1\n",
        "                    self.best_weights = self.model.get_weights()\n",
        "                else:\n",
        "                    if self.verbose > 0:\n",
        "                        print('\\nEpoch %05d: %s did not improve' %\n",
        "                              (epoch + 1, self.monitor))            \n",
        "                    \n",
        "    def on_train_end(self, logs=None):\n",
        "        if self.verbose > 0:\n",
        "            print('Using epoch %05d with %s: %0.5f' % (self.best_epochs, self.monitor,\n",
        "                                                       self.best))\n",
        "        self.model.set_weights(self.best_weights)"
      ],
      "execution_count": null,
      "outputs": []
    },
    {
      "cell_type": "code",
      "metadata": {
        "trusted": true,
        "_uuid": "271b5340d3581679efc24dc44bc632fa2793fb42",
        "id": "dPeIi8A-CwMx"
      },
      "source": [
        "%%time\n",
        "dataframe = pd.read_csv('../input/rockyou.txt',\n",
        "                        delimiter = \"\\n\", \n",
        "                        header = None, \n",
        "                        names = [\"Passwords\"],\n",
        "                        encoding = \"ISO-8859-1\",\n",
        "                        nrows = 100000)\n",
        "\n",
        "# BUG: ord throws error due to malformed data near 900000 row"
      ],
      "execution_count": null,
      "outputs": []
    },
    {
      "cell_type": "code",
      "metadata": {
        "trusted": true,
        "_uuid": "a500d0ea2c37596912045f35d1b24f6f6dbe550e",
        "id": "eYjviqxCCwMy"
      },
      "source": [
        "%%time\n",
        "# # delete all rows with password over 25 letters and less than 3\n",
        "# -> testing at 8 char password\n",
        "clutter = dataframe[ (dataframe['Passwords'].str.len() >= 9) \n",
        "                   | (dataframe['Passwords'].str.len() <= 7) ].index\n",
        "# print(dataframe[ (dataframe['Passwords'].str.len() >= 26) ])\n",
        "dataframe.drop(clutter, inplace=True)\n",
        "\n",
        "dataframe = dataframe.reset_index(drop=True)"
      ],
      "execution_count": null,
      "outputs": []
    },
    {
      "cell_type": "code",
      "metadata": {
        "trusted": true,
        "_uuid": "4209f8ba3f9069db969918aa2288dcb82f251494",
        "id": "Dpe1e772CwMy"
      },
      "source": [
        "%%time\n",
        "# Drop duplicate password\n",
        "dataframe.drop_duplicates(subset=['Passwords'], keep=False, inplace=True)\n",
        "\n",
        "dataframe = dataframe.reset_index(drop=True)"
      ],
      "execution_count": null,
      "outputs": []
    },
    {
      "cell_type": "code",
      "metadata": {
        "trusted": true,
        "_uuid": "5c4fe905c3d2e942aea726e167d3d6b5c7472c2b",
        "id": "3qovcBrHCwMz"
      },
      "source": [
        "dataframe['MD5'] = [hashlib.md5(str.encode(str(i))).hexdigest() \n",
        "                    for i in dataframe['Passwords'].fillna(0).astype(str)]"
      ],
      "execution_count": null,
      "outputs": []
    },
    {
      "cell_type": "code",
      "metadata": {
        "trusted": true,
        "_uuid": "16dc1bbc4fb33071ecdc7d1f289276b863d2f629",
        "scrolled": true,
        "id": "8X8ZIzOxCwMz"
      },
      "source": [
        "# training data and keys\n",
        "passwords = pd.DataFrame(dataframe['Passwords'])\n",
        "hashes = pd.DataFrame(dataframe['MD5'])\n",
        "\n",
        "hashes.head()\n"
      ],
      "execution_count": null,
      "outputs": []
    },
    {
      "cell_type": "code",
      "metadata": {
        "trusted": true,
        "_uuid": "46a6b24e0411098f501c8d635b808bdac98e45d7",
        "id": "9TlMzs-kCwMz"
      },
      "source": [
        "# Digest MD5 Hash to decimal array converter  \n",
        "\n",
        "# split 32 chr hash into 16 hexadecimal pairs\n",
        "h01 = dataframe['MD5'].str[:2].apply(int, base=16).astype(float)/256\n",
        "h02 = dataframe['MD5'].str[2:4].apply(int, base=16).astype(float)/256\n",
        "h03 = dataframe['MD5'].str[4:6].apply(int, base=16).astype(float)/256\n",
        "h04 = dataframe['MD5'].str[6:8].apply(int, base=16).astype(float)/256\n",
        "\n",
        "h05 = dataframe['MD5'].str[8:10].apply(int, base=16).astype(float)/256\n",
        "h06 = dataframe['MD5'].str[10:12].apply(int, base=16).astype(float)/256\n",
        "h07 = dataframe['MD5'].str[12:14].apply(int, base=16).astype(float)/256\n",
        "h08 = dataframe['MD5'].str[14:16].apply(int, base=16).astype(float)/256\n",
        "\n",
        "h09 = dataframe['MD5'].str[16:18].apply(int, base=16).astype(float)/256\n",
        "h10 = dataframe['MD5'].str[18:20].apply(int, base=16).astype(float)/256\n",
        "h11 = dataframe['MD5'].str[20:22].apply(int, base=16).astype(float)/256\n",
        "h12 = dataframe['MD5'].str[22:24].apply(int, base=16).astype(float)/256\n",
        "\n",
        "h13 = dataframe['MD5'].str[24:26].apply(int, base=16).astype(float)/256\n",
        "h14 = dataframe['MD5'].str[26:28].apply(int, base=16).astype(float)/256\n",
        "h15 = dataframe['MD5'].str[28:30].apply(int, base=16).astype(float)/256\n",
        "h16 = dataframe['MD5'].str[30:32].apply(int, base=16).astype(float)/256\n",
        "# convert hex to dec and divide by 255 to normalize\n",
        "\n",
        "train = np.column_stack((h01, h02, h03, h04,\n",
        "                         h05, h06, h07, h08,\n",
        "                         h09, h10, h11, h12,\n",
        "                         h13, h14, h15, h16))\n",
        "\n",
        "train[1:3]"
      ],
      "execution_count": null,
      "outputs": []
    },
    {
      "cell_type": "code",
      "metadata": {
        "trusted": true,
        "_uuid": "c56bd2819f5ab728be822fe2e8abec713aaa8be1",
        "id": "eifyFyxrCwM0"
      },
      "source": [
        "# Digest password into encoded decimal array.\n",
        "\n",
        "#df['ascii'] = [ord(x) for x in df['label']]\n",
        "\n",
        "# ascii ord values can be as high as\n",
        "\n",
        "xp01 = [ord(x) for x in dataframe['Passwords'].str[0:1]]\n",
        "p01 = np.array(xp01, dtype=np.float32)/128\n",
        "xp02 = [ord(x) for x in dataframe['Passwords'].str[1:2]]\n",
        "p02 = np.array(xp02, dtype=np.float32)/128\n",
        "xp03 = [ord(x) for x in dataframe['Passwords'].str[2:3]]\n",
        "p03 = np.array(xp03, dtype=np.float32)/128\n",
        "xp04 = [ord(x) for x in dataframe['Passwords'].str[3:4]]\n",
        "p04 = np.array(xp04, dtype=np.float32)/128\n",
        "xp05 = [ord(x) for x in dataframe['Passwords'].str[4:5]]\n",
        "p05 = np.array(xp05, dtype=np.float32)/128\n",
        "xp06 = [ord(x) for x in dataframe['Passwords'].str[5:6]]\n",
        "p06 = np.array(xp06, dtype=np.float32)/128\n",
        "xp07 = [ord(x) for x in dataframe['Passwords'].str[6:7]]\n",
        "p07 = np.array(xp07, dtype=np.float32)/128\n",
        "xp08 = [ord(x) for x in dataframe['Passwords'].str[7:8]]\n",
        "p08 = np.array(xp08, dtype=np.float32)/128\n",
        "\n",
        "key = np.column_stack((p01, p02, p03, p04, p05, p06, p07, p08))\n",
        "\n",
        "key[1:5]"
      ],
      "execution_count": null,
      "outputs": []
    },
    {
      "cell_type": "code",
      "metadata": {
        "trusted": true,
        "_uuid": "48ae294f1f5c1f8a0d84056b3e558702cf10281b",
        "id": "6OBvFEl8CwM1"
      },
      "source": [
        "hashcode = train[0:1]\n",
        "plt.imshow(np.reshape(hashcode,[4,4]), interpolation=\"nearest\", cmap=\"gray\")"
      ],
      "execution_count": null,
      "outputs": []
    },
    {
      "cell_type": "code",
      "metadata": {
        "trusted": true,
        "_uuid": "1530946f6169c41c8e42116543e89978113e4227",
        "id": "Bhlfh05KCwM1"
      },
      "source": [
        "password = key[0:1]\n",
        "key_shape = key.shape[1]\n",
        "plt.imshow(np.reshape(password,[1,key_shape]), interpolation=\"nearest\", cmap=\"gray\")"
      ],
      "execution_count": null,
      "outputs": []
    },
    {
      "cell_type": "code",
      "metadata": {
        "trusted": true,
        "_uuid": "e4de779394b65f40e5626c952fcd0fd876f8361f",
        "id": "0F-8rBx6CwM1"
      },
      "source": [
        "# Set input shape based on training data. \n",
        "# Digested hash shape = 16.\n",
        "train_dim = train.shape[1]"
      ],
      "execution_count": null,
      "outputs": []
    },
    {
      "cell_type": "code",
      "metadata": {
        "trusted": true,
        "_uuid": "1c58a9b59920fc682ab0d75c76068fa0a14acaf0",
        "id": "w3M_8eXiCwM1"
      },
      "source": [
        "# Fuzzy dropout model to force learning.\n",
        "# Fuzz disabled for testing.\n",
        "model = Sequential()\n",
        "\n",
        "model.add(Dense(256, input_dim=train_dim, activation='relu'))\n",
        "# model.add(BatchNormalization())\n",
        "# model.add(Dropout(0.5))\n",
        "# model.add(Dense(256, activation='relu'))\n",
        "# model.add(BatchNormalization())\n",
        "# model.add(Dropout(0.5))\n",
        "\n",
        "model.add(Dense(128, activation='relu'))\n",
        "# model.add(BatchNormalization())\n",
        "# model.add(Dropout(0.5))\n",
        "model.add(Dense(128, activation='relu'))\n",
        "# model.add(BatchNormalization())\n",
        "# model.add(Dropout(0.5))\n",
        "\n",
        "\n",
        "model.add(Dense(64, activation='relu'))\n",
        "# model.add(BatchNormalization())\n",
        "# model.add(Dropout(0.5))\n",
        "# model.add(Dense(64, activation='relu'))\n",
        "# model.add(BatchNormalization())\n",
        "# model.add(Dropout(0.5))\n",
        "\n",
        "model.add(Dense(32, activation='relu'))\n",
        "# model.add(BatchNormalization())\n",
        "# model.add(Dropout(0.5))\n",
        "# model.add(Dense(32, activation='relu'))\n",
        "# model.add(BatchNormalization())\n",
        "# model.add(Dropout(0.5))\n",
        "\n",
        "model.add(Dense(16, activation='relu'))\n",
        "model.add(Dense(8, activation='sigmoid'))"
      ],
      "execution_count": null,
      "outputs": []
    },
    {
      "cell_type": "code",
      "metadata": {
        "trusted": true,
        "_uuid": "e59aaa55ac5eb7fd45f50cdf44e51b0a555e3516",
        "id": "BcJ4-8yeCwM2"
      },
      "source": [
        "# Compile Model // \n",
        "model.compile(loss='categorical_crossentropy',\n",
        "              metrics=['accuracy'],\n",
        "              optimizer='adam')\n",
        "\n",
        "callbacks = [EarlyStopping(monitor='val_acc', patience=100),\n",
        "             GetBest(monitor='val_acc', verbose=1, mode='max')]\n",
        "\n",
        "model.summary()"
      ],
      "execution_count": null,
      "outputs": []
    },
    {
      "cell_type": "code",
      "metadata": {
        "trusted": true,
        "_uuid": "1080e1b20b63525fbdd7509e31e5cca3bf000f2b",
        "id": "NXNSfyQVCwM2"
      },
      "source": [
        "history = model.fit(train, key,\n",
        "                    callbacks=callbacks,\n",
        "                    epochs=3000,\n",
        "                    batch_size=128,\n",
        "                    # shuffle=True,\n",
        "                    validation_split=0.1,\n",
        "                    verbose=2)"
      ],
      "execution_count": null,
      "outputs": []
    },
    {
      "cell_type": "code",
      "metadata": {
        "trusted": true,
        "_uuid": "06e078b1b6660195a42b043f02452d98295fad48",
        "id": "vAiIuNkwCwM2"
      },
      "source": [
        "# Plot training & validation accuracy values\n",
        "plt.plot(history.history['acc'])\n",
        "plt.plot(history.history['val_acc'])\n",
        "plt.title('Model accuracy')\n",
        "plt.ylabel('Accuracy')\n",
        "plt.xlabel('Epoch')\n",
        "plt.legend(['Train', 'Test'], loc='upper left')\n",
        "plt.show()"
      ],
      "execution_count": null,
      "outputs": []
    },
    {
      "cell_type": "code",
      "metadata": {
        "trusted": true,
        "_uuid": "90cd8280446ce97853978c2d7b069aa11a2af31d",
        "id": "bqxzkMpvCwM3"
      },
      "source": [
        "# evaluate model\n",
        "score = model.evaluate(train, key, verbose=0)\n",
        "\n",
        "print('Test loss:', score[0])\n",
        "print('Test accuracy:', score[1])"
      ],
      "execution_count": null,
      "outputs": []
    },
    {
      "cell_type": "code",
      "metadata": {
        "trusted": true,
        "_uuid": "0ed6f86975b9d0cdf2ddba5b3e12e712a7f33d8e",
        "id": "xgszvp4yCwM3"
      },
      "source": [
        "# MD5 test array\n",
        "\n",
        "test = ('test1234','test2345','testtest','password')\n",
        "\n",
        "test[0]"
      ],
      "execution_count": null,
      "outputs": []
    },
    {
      "cell_type": "code",
      "metadata": {
        "trusted": true,
        "_uuid": "3363e8bce47de91c649375e5f49883803f0da630",
        "id": "iBh9KAumCwM3"
      },
      "source": [
        "# Digest MD5 hashes to test.\n"
      ],
      "execution_count": null,
      "outputs": []
    },
    {
      "cell_type": "code",
      "metadata": {
        "trusted": true,
        "_uuid": "889a884a27e058e28bd2a74765c73f23f2daf578",
        "id": "Ngr_ken7CwM3"
      },
      "source": [
        "# Predict password decimal array from unique MD5.\n",
        "predictions = model.predict(train, batch_size=None, verbose=0)"
      ],
      "execution_count": null,
      "outputs": []
    },
    {
      "cell_type": "code",
      "metadata": {
        "trusted": true,
        "_uuid": "bbd8e6e57e1a0ca4baecf3bee42e020c1f217d59",
        "id": "FYhXBFI4CwM4"
      },
      "source": [
        "predictions[0]"
      ],
      "execution_count": null,
      "outputs": []
    },
    {
      "cell_type": "code",
      "metadata": {
        "trusted": true,
        "_uuid": "8ec048e4cd74faf639bff69b3f785ca82604f132",
        "id": "zKgrcFdHCwM4"
      },
      "source": [
        "# predictions = predictions*128"
      ],
      "execution_count": null,
      "outputs": []
    },
    {
      "cell_type": "code",
      "metadata": {
        "trusted": true,
        "_uuid": "b975d227cd70a459a1a4d92d3d04970a0431526f",
        "id": "gGTSmhT9CwM4"
      },
      "source": [
        "# predictions[0:10].astype(int)"
      ],
      "execution_count": null,
      "outputs": []
    },
    {
      "cell_type": "code",
      "metadata": {
        "trusted": true,
        "_uuid": "1a3639d870960d5265b78fa3013d871a29abdee4",
        "id": "7BwBuUVSCwM4"
      },
      "source": [
        "passes = (key[0:17000]*128).astype(int)\n",
        "\n",
        "passes[1:10]"
      ],
      "execution_count": null,
      "outputs": []
    },
    {
      "cell_type": "code",
      "metadata": {
        "trusted": true,
        "_uuid": "5f53a0665dc498de1e230b665a3648cde62f15fe",
        "id": "7tzcUO6iCwM4"
      },
      "source": [
        "drift=1\n",
        "guess = ((predictions[0:17000]*128)/drift).astype(int)\n",
        "\n",
        "guess[1:10]"
      ],
      "execution_count": null,
      "outputs": []
    },
    {
      "cell_type": "code",
      "metadata": {
        "trusted": true,
        "_uuid": "6559f9333337166947c86b32fdd26fde8061a898",
        "id": "rZHZP1bgCwM5"
      },
      "source": [
        "key_id = 7\n",
        "\n",
        "decoded = [chr(x) for x in passes[key_id]]\n",
        "\n",
        "print(decoded)\n",
        "\n",
        "decrypt = [chr(x) for x in guess[key_id]]\n",
        "\n",
        "print(decrypt)"
      ],
      "execution_count": null,
      "outputs": []
    },
    {
      "cell_type": "code",
      "metadata": {
        "trusted": true,
        "_uuid": "d89eb79befee1ec9f6cbb5f7d8d2b25111dc20bf",
        "id": "1LLSNJiuCwM5"
      },
      "source": [
        "# set(decoded) & set(decrypt)\n",
        "\n",
        "answers = set(decoded).intersection(decrypt)\n",
        "\n",
        "print (answers)"
      ],
      "execution_count": null,
      "outputs": []
    },
    {
      "cell_type": "code",
      "metadata": {
        "trusted": true,
        "_uuid": "6ad176a3910587c9d15e339e462f43c93961ee4d",
        "id": "8GRoI5IcCwM5"
      },
      "source": [
        "[x for x in decoded if x in decrypt]"
      ],
      "execution_count": null,
      "outputs": []
    },
    {
      "cell_type": "code",
      "metadata": {
        "trusted": true,
        "_uuid": "3213d32b1dcaba7cf4651d435acc7c0c502fd03d",
        "id": "UNi6JzxKCwM5"
      },
      "source": [
        "list(set(decoded).intersection(set(decrypt)))"
      ],
      "execution_count": null,
      "outputs": []
    },
    {
      "cell_type": "code",
      "metadata": {
        "trusted": true,
        "_uuid": "7a3840e3148de216ad6c3337ef52fcf313c86fec",
        "id": "ZxBlFRfDCwM5"
      },
      "source": [
        "# Decode predicted decimal array into characters.\n",
        "# ascii ord values can be as high as\n",
        "\n",
        "# p01 = np.array(xp01, dtype=np.float32)*255\n",
        "# xp01 = [chr(x) for x in predictions['Passwords'].str[0:1]]\n",
        "# p02 = np.array(xp02, dtype=np.float32)*255\n",
        "# xp02 = [chr(x) for x in predictions['Passwords'].str[1:2]]\n",
        "# p03 = np.array(xp03, dtype=np.float32)*255\n",
        "# xp03 = [chr(x) for x in predictions['Passwords'].str[2:3]]\n",
        "# p04 = np.array(xp04, dtype=np.float32)*255\n",
        "# xp04 = [chr(x) for x in predictions['Passwords'].str[3:4]]\n",
        "# p05 = np.array(xp05, dtype=np.float32)*255\n",
        "# xp05 = [chr(x) for x in predictions['Passwords'].str[4:5]]\n",
        "# p06 = np.array(xp06, dtype=np.float32)*255\n",
        "# xp06 = [chr(x) for x in predictions['Passwords'].str[5:6]]\n",
        "# p07 = np.array(xp07, dtype=np.float32)*255\n",
        "# xp07 = [chr(x) for x in predictions['Passwords'].str[6:7]]\n",
        "# p08 = np.array(xp08, dtype=np.float32)*255\n",
        "# xp08 = [chr(x) for x in predictions['Passwords'].str[7:8]]\n",
        "\n",
        "\n",
        "# test_key = np.column_stack((p01, p02, p03, p04, p05, p06, p07, p08))\n",
        "\n",
        "# test_key[1:5]"
      ],
      "execution_count": null,
      "outputs": []
    },
    {
      "cell_type": "code",
      "metadata": {
        "trusted": true,
        "_uuid": "352520d7037e19252b4b1b36fd05281c22a26605",
        "id": "xAEjA1h4CwM5"
      },
      "source": [
        "# submission = pd.DataFrame({'Hash': test_id, 'Password': predictions})\n",
        "\n",
        "# submission.head()"
      ],
      "execution_count": null,
      "outputs": []
    }
  ]
}