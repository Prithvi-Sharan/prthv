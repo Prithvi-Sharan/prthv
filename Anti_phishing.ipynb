{
  "nbformat": 4,
  "nbformat_minor": 0,
  "metadata": {
    "colab": {
      "name": "Anti-phishing.ipynb",
      "provenance": [],
      "authorship_tag": "ABX9TyNJJmm6gS/hXsjq8sAqV2Ir",
      "include_colab_link": true
    },
    "kernelspec": {
      "name": "python3",
      "display_name": "Python 3"
    },
    "language_info": {
      "name": "python"
    }
  },
  "cells": [
    {
      "cell_type": "markdown",
      "metadata": {
        "id": "view-in-github",
        "colab_type": "text"
      },
      "source": [
        "<a href=\"https://colab.research.google.com/github/Prithvi-Sharan/prthv/blob/master/Anti_phishing.ipynb\" target=\"_parent\"><img src=\"https://colab.research.google.com/assets/colab-badge.svg\" alt=\"Open In Colab\"/></a>"
      ]
    },
    {
      "cell_type": "code",
      "metadata": {
        "colab": {
          "base_uri": "https://localhost:8080/"
        },
        "id": "T2BmC61VzfV6",
        "outputId": "d2f0b798-e6c5-499a-a02b-f2a3c247feda"
      },
      "source": [
        "import requests\n",
        "import os\n",
        "import random\n",
        "import string\n",
        "import json\n",
        "import threading\n",
        "from requests.exceptions import SSLError\n",
        "\n",
        "\n",
        "def generate_random_name():\n",
        "    event = random.randint(0, 4)\n",
        "    if event == 0:\n",
        "        return str(random.choice(names)).lower()\n",
        "    elif event in [1, 2]:\n",
        "        separator = ['-', '.', '_']\n",
        "        return str(random.choice(names)).lower() + separator[random.randint(0, len(separator) - 1)] + str(\n",
        "            random.choice(names)).lower()\n",
        "    else:\n",
        "        return str(random.choice(names)).lower() + random.choice(string.digits) + random.choice(string.digits)\n",
        "\n",
        "\n",
        "def generate_random_password():\n",
        "    event = random.randint(0, 6)\n",
        "    if event == 0:\n",
        "        return ''.join(random.choice(chars) for i in range(random.randint(7, 15)))\n",
        "    elif event in [1, 2]:\n",
        "        return random.choice(dictionary) + random.choice(dictionary) + random.choice(string.digits)\n",
        "    elif event in [3, 4]:\n",
        "        return random.choice(dictionary) + random.choice(string.digits)\n",
        "    else:\n",
        "        return random.choice(string.digits) + random.choice(dictionary) + random.choice(names)\n",
        "\n",
        "\n",
        "def run():\n",
        "    while True:\n",
        "        username = generate_random_name() + '@' + random.choice(emails) + '.' + random.choice(ext)\n",
        "        password = generate_random_password()\n",
        "        try:\n",
        "            r = requests.post(url, allow_redirects=False, data={\n",
        "                str(formDataNameLogin): username,\n",
        "                str(formDataNamePass): password,\n",
        "            })\n",
        "            print('[Result: %s] -- [USERNAME: %s] -- [PASSWORD: %s]' % (r.status_code, username, password))\n",
        "        except SSLError as e:\n",
        "            print('Error: URL can no longer be reached..')\n",
        "        except Exception as e:\n",
        "            print('Error: {0}'.format(e))\n",
        "\n",
        "\n",
        "if __name__ == '__main__':\n",
        "    url = input('Form URL: ')\n",
        "    formDataNameLogin = input('Form Data [Account/Email] Name: ')\n",
        "    formDataNamePass = input('Form Data Password Name: ')\n",
        "    threads = int(input('Threads: '))\n",
        "\n",
        "    chars = string.ascii_letters + string.digits\n",
        "    random.seed = (os.urandom(1024))\n",
        "\n",
        "    names = json.loads(open('names.json').read())\n",
        "    emails = json.loads(open('emails.json').read())\n",
        "    ext = json.loads(open('extensions.json').read())\n",
        "    dictionary = json.loads(open('dictionary.json').read())\n",
        "\n",
        "    for i in range(threads):\n",
        "        t = threading.Thread(target=run)\n",
        "        t.start()"
      ],
      "execution_count": null,
      "outputs": [
        {
          "output_type": "stream",
          "text": [
            "Form URL: http://talent.com\n",
            "Form Data [Account/Email] Name: fake@inbox.com\n",
            "Form Data Password Name: yahoogoogle\n",
            "Threads: 10\n",
            "[Result: 301] -- [USERNAME: nora29@aol.dk] -- [PASSWORD: crucial4]\n",
            "[Result: 301] -- [USERNAME: darian-vihaan@hotmail.com] -- [PASSWORD: 2RenaultLucas][Result: 301] -- [USERNAME: alfred69@online.aero] -- [PASSWORD: 2shipboardLane]\n",
            "[Result: 301] -- [USERNAME: damien06@gmail.edu] -- [PASSWORD: 4NegroTeresa]\n",
            "[Result: 301] -- [USERNAME: maci-vihaan@gmail.ac] -- [PASSWORD: MtsNktZk0ZZ]\n",
            "[Result: 301] -- [USERNAME: simon60@att.com] -- [PASSWORD: 4oozeAxl]\n",
            "\n",
            "[Result: 301] -- [USERNAME: paulina_chaya@gmail.com] -- [PASSWORD: OqHZuCUHAAKT4K]\n",
            "[Result: 301] -- [USERNAME: molly_danica@gmail.gov] -- [PASSWORD: trajectory9]\n",
            "[Result: 301] -- [USERNAME: julia@gmail.nl] -- [PASSWORD: lollypour4]\n",
            "[Result: 301] -- [USERNAME: patrick@icloud.az] -- [PASSWORD: 3KilimanjaroJazlyn]\n",
            "[Result: 301] -- [USERNAME: melissa95@optonline.ac] -- [PASSWORD: 5siliceousBriley]\n",
            "[Result: 301] -- [USERNAME: paulina.alexis@gmail.az] -- [PASSWORD: 4nilpotentJohanna]\n",
            "[Result: 301] -- [USERNAME: adonis_genesis@att.edu] -- [PASSWORD: 4polkaCairo]\n",
            "[Result: 301] -- [USERNAME: kailee96@hotmail.com] -- [PASSWORD: ShoshoneZoroastrian3][Result: 301] -- [USERNAME: ty-remington@hotmail.org] -- [PASSWORD: impossible5]\n",
            "\n",
            "[Result: 301] -- [USERNAME: ledger@aol.com] -- [PASSWORD: synonymouspork3]\n",
            "[Result: 301] -- [USERNAME: rowen-brentley@live.com] -- [PASSWORD: pubpontiff7]\n",
            "[Result: 301] -- [USERNAME: rosalyn43@yahoo.nl] -- [PASSWORD: swizzle5][Result: 301] -- [USERNAME: hazel68@gmail.com] -- [PASSWORD: 1DebbyJohnny]\n",
            "\n",
            "[Result: 301] -- [USERNAME: miranda67@sbcglobal.eu] -- [PASSWORD: 1KatzHope][Result: 301] -- [USERNAME: anabel@hotmail.org] -- [PASSWORD: 6chattyZaria]\n",
            "\n",
            "[Result: 301] -- [USERNAME: ronin-quinn@gmail.edu] -- [PASSWORD: ND6]\n",
            "[Result: 301] -- [USERNAME: koa-jaxson@hotmail.com] -- [PASSWORD: 4verticalAnnabella]\n",
            "[Result: 301] -- [USERNAME: aria98@att.org] -- [PASSWORD: bedevildebility9][Result: 301] -- [USERNAME: maia_easton@yahoo.org] -- [PASSWORD: sprout9][Result: 301] -- [USERNAME: june63@icloud.com] -- [PASSWORD: Longfellow0]\n",
            "[Result: 301] -- [USERNAME: anabella.lindsey@outlook.com] -- [PASSWORD: 7skatBoone]\n",
            "\n",
            "[Result: 301] -- [USERNAME: kash-elianna@msn.net] -- [PASSWORD: cryostatchomp8]\n",
            "\n",
            "[Result: 301] -- [USERNAME: sierra@gmail.de] -- [PASSWORD: 0scrollKolten]\n",
            "[Result: 301] -- [USERNAME: carolina37@aol.com] -- [PASSWORD: 5BatemanAzaria]\n",
            "[Result: 301] -- [USERNAME: chloe-arjun@outlook.ru] -- [PASSWORD: 4lustrousHailey]\n",
            "[Result: 301] -- [USERNAME: lorelei_janae@gmail.org] -- [PASSWORD: paunchcauliflower8]\n",
            "[Result: 301] -- [USERNAME: xander_everleigh@icloud.net] -- [PASSWORD: orchestral8]\n"
          ],
          "name": "stdout"
        }
      ]
    },
    {
      "cell_type": "code",
      "metadata": {
        "id": "Hfy5SY2OzgVT"
      },
      "source": [
        "\"\""
      ],
      "execution_count": null,
      "outputs": []
    }
  ]
}