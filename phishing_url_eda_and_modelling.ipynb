{
  "nbformat": 4,
  "nbformat_minor": 0,
  "metadata": {
    "kernelspec": {
      "display_name": "Python 3",
      "language": "python",
      "name": "python3"
    },
    "language_info": {
      "codemirror_mode": {
        "name": "ipython",
        "version": 3
      },
      "file_extension": ".py",
      "mimetype": "text/x-python",
      "name": "python",
      "nbconvert_exporter": "python",
      "pygments_lexer": "ipython3",
      "version": "3.7.6"
    },
    "colab": {
      "name": "phishing-url-eda-and-modelling.ipynb",
      "provenance": [],
      "toc_visible": true,
      "include_colab_link": true
    }
  },
  "cells": [
    {
      "cell_type": "markdown",
      "metadata": {
        "id": "view-in-github",
        "colab_type": "text"
      },
      "source": [
        "<a href=\"https://colab.research.google.com/github/Prithvi-Sharan/prthv/blob/master/phishing_url_eda_and_modelling.ipynb\" target=\"_parent\"><img src=\"https://colab.research.google.com/assets/colab-badge.svg\" alt=\"Open In Colab\"/></a>"
      ]
    },
    {
      "cell_type": "code",
      "metadata": {
        "_cell_guid": "b1076dfc-b9ad-4769-8c92-a6c4dae69d19",
        "_uuid": "8f2839f25d086af736a60e9eeb907d3b93b6e0e5",
        "id": "E6IeY7TE0Teu"
      },
      "source": [
        "import matplotlib.pyplot as plt\n",
        "import seaborn as sns\n",
        "import pandas as pd\n",
        "import numpy as np\n",
        "\n",
        "%matplotlib inline"
      ],
      "execution_count": null,
      "outputs": []
    },
    {
      "cell_type": "code",
      "metadata": {
        "_cell_guid": "79c7e3d0-c299-4dcb-8224-4455121ee9b0",
        "_uuid": "d629ff2d2480ee46fbb7e2d37f6b5fab8052498a",
        "id": "h5G1WBcy0Tev"
      },
      "source": [
        "df = pd.read_csv('dataset.csv')"
      ],
      "execution_count": null,
      "outputs": []
    },
    {
      "cell_type": "markdown",
      "metadata": {
        "id": "HgZ5-XZj0Tev"
      },
      "source": [
        "# Data Overview"
      ]
    },
    {
      "cell_type": "code",
      "metadata": {
        "colab": {
          "base_uri": "https://localhost:8080/",
          "height": 222
        },
        "id": "x8HHacmJ0Tev",
        "outputId": "b11efca7-581f-48b2-d915-c872934b5c23"
      },
      "source": [
        "# First 5 sample rows of Dataset\n",
        "df.head()"
      ],
      "execution_count": null,
      "outputs": [
        {
          "output_type": "execute_result",
          "data": {
            "text/html": [
              "<div>\n",
              "<style scoped>\n",
              "    .dataframe tbody tr th:only-of-type {\n",
              "        vertical-align: middle;\n",
              "    }\n",
              "\n",
              "    .dataframe tbody tr th {\n",
              "        vertical-align: top;\n",
              "    }\n",
              "\n",
              "    .dataframe thead th {\n",
              "        text-align: right;\n",
              "    }\n",
              "</style>\n",
              "<table border=\"1\" class=\"dataframe\">\n",
              "  <thead>\n",
              "    <tr style=\"text-align: right;\">\n",
              "      <th></th>\n",
              "      <th>index</th>\n",
              "      <th>having_IPhaving_IP_Address</th>\n",
              "      <th>URLURL_Length</th>\n",
              "      <th>Shortining_Service</th>\n",
              "      <th>having_At_Symbol</th>\n",
              "      <th>double_slash_redirecting</th>\n",
              "      <th>Prefix_Suffix</th>\n",
              "      <th>having_Sub_Domain</th>\n",
              "      <th>SSLfinal_State</th>\n",
              "      <th>Domain_registeration_length</th>\n",
              "      <th>Favicon</th>\n",
              "      <th>port</th>\n",
              "      <th>HTTPS_token</th>\n",
              "      <th>Request_URL</th>\n",
              "      <th>URL_of_Anchor</th>\n",
              "      <th>Links_in_tags</th>\n",
              "      <th>SFH</th>\n",
              "      <th>Submitting_to_email</th>\n",
              "      <th>Abnormal_URL</th>\n",
              "      <th>Redirect</th>\n",
              "      <th>on_mouseover</th>\n",
              "      <th>RightClick</th>\n",
              "      <th>popUpWidnow</th>\n",
              "      <th>Iframe</th>\n",
              "      <th>age_of_domain</th>\n",
              "      <th>DNSRecord</th>\n",
              "      <th>web_traffic</th>\n",
              "      <th>Page_Rank</th>\n",
              "      <th>Google_Index</th>\n",
              "      <th>Links_pointing_to_page</th>\n",
              "      <th>Statistical_report</th>\n",
              "      <th>Result</th>\n",
              "    </tr>\n",
              "  </thead>\n",
              "  <tbody>\n",
              "    <tr>\n",
              "      <th>0</th>\n",
              "      <td>1</td>\n",
              "      <td>-1</td>\n",
              "      <td>1</td>\n",
              "      <td>1</td>\n",
              "      <td>1</td>\n",
              "      <td>-1</td>\n",
              "      <td>-1</td>\n",
              "      <td>-1</td>\n",
              "      <td>-1</td>\n",
              "      <td>-1</td>\n",
              "      <td>1</td>\n",
              "      <td>1</td>\n",
              "      <td>-1</td>\n",
              "      <td>1</td>\n",
              "      <td>-1</td>\n",
              "      <td>1</td>\n",
              "      <td>-1</td>\n",
              "      <td>-1</td>\n",
              "      <td>-1</td>\n",
              "      <td>0</td>\n",
              "      <td>1</td>\n",
              "      <td>1</td>\n",
              "      <td>1</td>\n",
              "      <td>1</td>\n",
              "      <td>-1</td>\n",
              "      <td>-1</td>\n",
              "      <td>-1</td>\n",
              "      <td>-1</td>\n",
              "      <td>1</td>\n",
              "      <td>1</td>\n",
              "      <td>-1</td>\n",
              "      <td>-1</td>\n",
              "    </tr>\n",
              "    <tr>\n",
              "      <th>1</th>\n",
              "      <td>2</td>\n",
              "      <td>1</td>\n",
              "      <td>1</td>\n",
              "      <td>1</td>\n",
              "      <td>1</td>\n",
              "      <td>1</td>\n",
              "      <td>-1</td>\n",
              "      <td>0</td>\n",
              "      <td>1</td>\n",
              "      <td>-1</td>\n",
              "      <td>1</td>\n",
              "      <td>1</td>\n",
              "      <td>-1</td>\n",
              "      <td>1</td>\n",
              "      <td>0</td>\n",
              "      <td>-1</td>\n",
              "      <td>-1</td>\n",
              "      <td>1</td>\n",
              "      <td>1</td>\n",
              "      <td>0</td>\n",
              "      <td>1</td>\n",
              "      <td>1</td>\n",
              "      <td>1</td>\n",
              "      <td>1</td>\n",
              "      <td>-1</td>\n",
              "      <td>-1</td>\n",
              "      <td>0</td>\n",
              "      <td>-1</td>\n",
              "      <td>1</td>\n",
              "      <td>1</td>\n",
              "      <td>1</td>\n",
              "      <td>-1</td>\n",
              "    </tr>\n",
              "    <tr>\n",
              "      <th>2</th>\n",
              "      <td>3</td>\n",
              "      <td>1</td>\n",
              "      <td>0</td>\n",
              "      <td>1</td>\n",
              "      <td>1</td>\n",
              "      <td>1</td>\n",
              "      <td>-1</td>\n",
              "      <td>-1</td>\n",
              "      <td>-1</td>\n",
              "      <td>-1</td>\n",
              "      <td>1</td>\n",
              "      <td>1</td>\n",
              "      <td>-1</td>\n",
              "      <td>1</td>\n",
              "      <td>0</td>\n",
              "      <td>-1</td>\n",
              "      <td>-1</td>\n",
              "      <td>-1</td>\n",
              "      <td>-1</td>\n",
              "      <td>0</td>\n",
              "      <td>1</td>\n",
              "      <td>1</td>\n",
              "      <td>1</td>\n",
              "      <td>1</td>\n",
              "      <td>1</td>\n",
              "      <td>-1</td>\n",
              "      <td>1</td>\n",
              "      <td>-1</td>\n",
              "      <td>1</td>\n",
              "      <td>0</td>\n",
              "      <td>-1</td>\n",
              "      <td>-1</td>\n",
              "    </tr>\n",
              "    <tr>\n",
              "      <th>3</th>\n",
              "      <td>4</td>\n",
              "      <td>1</td>\n",
              "      <td>0</td>\n",
              "      <td>1</td>\n",
              "      <td>1</td>\n",
              "      <td>1</td>\n",
              "      <td>-1</td>\n",
              "      <td>-1</td>\n",
              "      <td>-1</td>\n",
              "      <td>1</td>\n",
              "      <td>1</td>\n",
              "      <td>1</td>\n",
              "      <td>-1</td>\n",
              "      <td>-1</td>\n",
              "      <td>0</td>\n",
              "      <td>0</td>\n",
              "      <td>-1</td>\n",
              "      <td>1</td>\n",
              "      <td>1</td>\n",
              "      <td>0</td>\n",
              "      <td>1</td>\n",
              "      <td>1</td>\n",
              "      <td>1</td>\n",
              "      <td>1</td>\n",
              "      <td>-1</td>\n",
              "      <td>-1</td>\n",
              "      <td>1</td>\n",
              "      <td>-1</td>\n",
              "      <td>1</td>\n",
              "      <td>-1</td>\n",
              "      <td>1</td>\n",
              "      <td>-1</td>\n",
              "    </tr>\n",
              "    <tr>\n",
              "      <th>4</th>\n",
              "      <td>5</td>\n",
              "      <td>1</td>\n",
              "      <td>0</td>\n",
              "      <td>-1</td>\n",
              "      <td>1</td>\n",
              "      <td>1</td>\n",
              "      <td>-1</td>\n",
              "      <td>1</td>\n",
              "      <td>1</td>\n",
              "      <td>-1</td>\n",
              "      <td>1</td>\n",
              "      <td>1</td>\n",
              "      <td>1</td>\n",
              "      <td>1</td>\n",
              "      <td>0</td>\n",
              "      <td>0</td>\n",
              "      <td>-1</td>\n",
              "      <td>1</td>\n",
              "      <td>1</td>\n",
              "      <td>0</td>\n",
              "      <td>-1</td>\n",
              "      <td>1</td>\n",
              "      <td>-1</td>\n",
              "      <td>1</td>\n",
              "      <td>-1</td>\n",
              "      <td>-1</td>\n",
              "      <td>0</td>\n",
              "      <td>-1</td>\n",
              "      <td>1</td>\n",
              "      <td>1</td>\n",
              "      <td>1</td>\n",
              "      <td>1</td>\n",
              "    </tr>\n",
              "  </tbody>\n",
              "</table>\n",
              "</div>"
            ],
            "text/plain": [
              "   index  having_IPhaving_IP_Address  ...  Statistical_report  Result\n",
              "0      1                          -1  ...                  -1      -1\n",
              "1      2                           1  ...                   1      -1\n",
              "2      3                           1  ...                  -1      -1\n",
              "3      4                           1  ...                   1      -1\n",
              "4      5                           1  ...                   1       1\n",
              "\n",
              "[5 rows x 32 columns]"
            ]
          },
          "metadata": {
            "tags": []
          },
          "execution_count": 3
        }
      ]
    },
    {
      "cell_type": "code",
      "metadata": {
        "colab": {
          "base_uri": "https://localhost:8080/"
        },
        "id": "krU7-9Gs0Tew",
        "outputId": "d3338c49-5bc1-43dc-c77f-2fc2108c0844"
      },
      "source": [
        "# Name of columns\n",
        "list(df.columns)"
      ],
      "execution_count": null,
      "outputs": [
        {
          "output_type": "execute_result",
          "data": {
            "text/plain": [
              "['index',\n",
              " 'having_IPhaving_IP_Address',\n",
              " 'URLURL_Length',\n",
              " 'Shortining_Service',\n",
              " 'having_At_Symbol',\n",
              " 'double_slash_redirecting',\n",
              " 'Prefix_Suffix',\n",
              " 'having_Sub_Domain',\n",
              " 'SSLfinal_State',\n",
              " 'Domain_registeration_length',\n",
              " 'Favicon',\n",
              " 'port',\n",
              " 'HTTPS_token',\n",
              " 'Request_URL',\n",
              " 'URL_of_Anchor',\n",
              " 'Links_in_tags',\n",
              " 'SFH',\n",
              " 'Submitting_to_email',\n",
              " 'Abnormal_URL',\n",
              " 'Redirect',\n",
              " 'on_mouseover',\n",
              " 'RightClick',\n",
              " 'popUpWidnow',\n",
              " 'Iframe',\n",
              " 'age_of_domain',\n",
              " 'DNSRecord',\n",
              " 'web_traffic',\n",
              " 'Page_Rank',\n",
              " 'Google_Index',\n",
              " 'Links_pointing_to_page',\n",
              " 'Statistical_report',\n",
              " 'Result']"
            ]
          },
          "metadata": {
            "tags": []
          },
          "execution_count": 4
        }
      ]
    },
    {
      "cell_type": "code",
      "metadata": {
        "colab": {
          "base_uri": "https://localhost:8080/"
        },
        "id": "kiHXMJnH0Tew",
        "outputId": "c7f91f54-0fc0-41ca-9e8e-7c25a707597c"
      },
      "source": [
        "df.info()"
      ],
      "execution_count": null,
      "outputs": [
        {
          "output_type": "stream",
          "text": [
            "<class 'pandas.core.frame.DataFrame'>\n",
            "RangeIndex: 11055 entries, 0 to 11054\n",
            "Data columns (total 32 columns):\n",
            " #   Column                       Non-Null Count  Dtype\n",
            "---  ------                       --------------  -----\n",
            " 0   index                        11055 non-null  int64\n",
            " 1   having_IPhaving_IP_Address   11055 non-null  int64\n",
            " 2   URLURL_Length                11055 non-null  int64\n",
            " 3   Shortining_Service           11055 non-null  int64\n",
            " 4   having_At_Symbol             11055 non-null  int64\n",
            " 5   double_slash_redirecting     11055 non-null  int64\n",
            " 6   Prefix_Suffix                11055 non-null  int64\n",
            " 7   having_Sub_Domain            11055 non-null  int64\n",
            " 8   SSLfinal_State               11055 non-null  int64\n",
            " 9   Domain_registeration_length  11055 non-null  int64\n",
            " 10  Favicon                      11055 non-null  int64\n",
            " 11  port                         11055 non-null  int64\n",
            " 12  HTTPS_token                  11055 non-null  int64\n",
            " 13  Request_URL                  11055 non-null  int64\n",
            " 14  URL_of_Anchor                11055 non-null  int64\n",
            " 15  Links_in_tags                11055 non-null  int64\n",
            " 16  SFH                          11055 non-null  int64\n",
            " 17  Submitting_to_email          11055 non-null  int64\n",
            " 18  Abnormal_URL                 11055 non-null  int64\n",
            " 19  Redirect                     11055 non-null  int64\n",
            " 20  on_mouseover                 11055 non-null  int64\n",
            " 21  RightClick                   11055 non-null  int64\n",
            " 22  popUpWidnow                  11055 non-null  int64\n",
            " 23  Iframe                       11055 non-null  int64\n",
            " 24  age_of_domain                11055 non-null  int64\n",
            " 25  DNSRecord                    11055 non-null  int64\n",
            " 26  web_traffic                  11055 non-null  int64\n",
            " 27  Page_Rank                    11055 non-null  int64\n",
            " 28  Google_Index                 11055 non-null  int64\n",
            " 29  Links_pointing_to_page       11055 non-null  int64\n",
            " 30  Statistical_report           11055 non-null  int64\n",
            " 31  Result                       11055 non-null  int64\n",
            "dtypes: int64(32)\n",
            "memory usage: 2.7 MB\n"
          ],
          "name": "stdout"
        }
      ]
    },
    {
      "cell_type": "markdown",
      "metadata": {
        "id": "8W0hzNd90Tew"
      },
      "source": [
        "You can see that there are no missing values in the Dataset"
      ]
    },
    {
      "cell_type": "code",
      "metadata": {
        "colab": {
          "base_uri": "https://localhost:8080/"
        },
        "id": "Q9cwqg9_0Tex",
        "outputId": "4b8b329c-6337-425e-9c4c-b7e702090ed1"
      },
      "source": [
        "for col in df.columns:\n",
        "    unique_value_list = df[col].unique()\n",
        "    if len(unique_value_list) > 10:\n",
        "        print(f'{col} has {df[col].nunique()} unique values')\n",
        "    else:\n",
        "        print(f'{col} contains:\\t\\t\\t{unique_value_list}')"
      ],
      "execution_count": null,
      "outputs": [
        {
          "output_type": "stream",
          "text": [
            "index has 11055 unique values\n",
            "having_IPhaving_IP_Address contains:\t\t\t[-1  1]\n",
            "URLURL_Length contains:\t\t\t[ 1  0 -1]\n",
            "Shortining_Service contains:\t\t\t[ 1 -1]\n",
            "having_At_Symbol contains:\t\t\t[ 1 -1]\n",
            "double_slash_redirecting contains:\t\t\t[-1  1]\n",
            "Prefix_Suffix contains:\t\t\t[-1  1]\n",
            "having_Sub_Domain contains:\t\t\t[-1  0  1]\n",
            "SSLfinal_State contains:\t\t\t[-1  1  0]\n",
            "Domain_registeration_length contains:\t\t\t[-1  1]\n",
            "Favicon contains:\t\t\t[ 1 -1]\n",
            "port contains:\t\t\t[ 1 -1]\n",
            "HTTPS_token contains:\t\t\t[-1  1]\n",
            "Request_URL contains:\t\t\t[ 1 -1]\n",
            "URL_of_Anchor contains:\t\t\t[-1  0  1]\n",
            "Links_in_tags contains:\t\t\t[ 1 -1  0]\n",
            "SFH contains:\t\t\t[-1  1  0]\n",
            "Submitting_to_email contains:\t\t\t[-1  1]\n",
            "Abnormal_URL contains:\t\t\t[-1  1]\n",
            "Redirect contains:\t\t\t[0 1]\n",
            "on_mouseover contains:\t\t\t[ 1 -1]\n",
            "RightClick contains:\t\t\t[ 1 -1]\n",
            "popUpWidnow contains:\t\t\t[ 1 -1]\n",
            "Iframe contains:\t\t\t[ 1 -1]\n",
            "age_of_domain contains:\t\t\t[-1  1]\n",
            "DNSRecord contains:\t\t\t[-1  1]\n",
            "web_traffic contains:\t\t\t[-1  0  1]\n",
            "Page_Rank contains:\t\t\t[-1  1]\n",
            "Google_Index contains:\t\t\t[ 1 -1]\n",
            "Links_pointing_to_page contains:\t\t\t[ 1  0 -1]\n",
            "Statistical_report contains:\t\t\t[-1  1]\n",
            "Result contains:\t\t\t[-1  1]\n"
          ],
          "name": "stdout"
        }
      ]
    },
    {
      "cell_type": "code",
      "metadata": {
        "id": "uLA-jBvw0Tex"
      },
      "source": [
        "df = df.drop(columns=['index'])"
      ],
      "execution_count": null,
      "outputs": []
    },
    {
      "cell_type": "code",
      "metadata": {
        "colab": {
          "base_uri": "https://localhost:8080/",
          "height": 403
        },
        "id": "54Ct8wFe0Tey",
        "outputId": "5132af32-c12b-436a-d728-236283589427"
      },
      "source": [
        "print(df['Result'].value_counts())\n",
        "sns.countplot(df['Result'])"
      ],
      "execution_count": null,
      "outputs": [
        {
          "output_type": "stream",
          "text": [
            " 1    6157\n",
            "-1    4898\n",
            "Name: Result, dtype: int64\n"
          ],
          "name": "stdout"
        },
        {
          "output_type": "stream",
          "text": [
            "/usr/local/lib/python3.7/dist-packages/seaborn/_decorators.py:43: FutureWarning: Pass the following variable as a keyword arg: x. From version 0.12, the only valid positional argument will be `data`, and passing other arguments without an explicit keyword will result in an error or misinterpretation.\n",
            "  FutureWarning\n"
          ],
          "name": "stderr"
        },
        {
          "output_type": "execute_result",
          "data": {
            "text/plain": [
              "<matplotlib.axes._subplots.AxesSubplot at 0x7ff8f9ecaad0>"
            ]
          },
          "metadata": {
            "tags": []
          },
          "execution_count": 8
        },
        {
          "output_type": "display_data",
          "data": {
            "image/png": "[encoded data removed]",
            "text/plain": [
              "<Figure size 432x288 with 1 Axes>"
            ]
          },
          "metadata": {
            "tags": [],
            "needs_background": "light"
          }
        }
      ]
    },
    {
      "cell_type": "markdown",
      "metadata": {
        "id": "Oy34jdr-0Tey"
      },
      "source": [
        "The data seems pretty much balanced i.e. There is not a significant difference between the count of the target variable values."
      ]
    },
    {
      "cell_type": "code",
      "metadata": {
        "colab": {
          "base_uri": "https://localhost:8080/",
          "height": 924
        },
        "id": "Rjbn8MTq0Tey",
        "outputId": "d4aad660-1455-41b0-cc3f-11f512c0ca22"
      },
      "source": [
        "plt.figure(figsize=(15, 15))\n",
        "sns.heatmap(df.corr(), linewidths=.5)"
      ],
      "execution_count": null,
      "outputs": [
        {
          "output_type": "execute_result",
          "data": {
            "text/plain": [
              "<matplotlib.axes._subplots.AxesSubplot at 0x7ff900382750>"
            ]
          },
          "metadata": {
            "tags": []
          },
          "execution_count": 9
        },
        {
          "output_type": "display_data",
          "data": {
            "image/png": "[encoded data removed]",
            "text/plain": [
              "<Figure size 1080x1080 with 2 Axes>"
            ]
          },
          "metadata": {
            "tags": [],
            "needs_background": "light"
          }
        }
      ]
    },
    {
      "cell_type": "code",
      "metadata": {
        "id": "o-4LOB1r0Tey"
      },
      "source": [
        "from sklearn.model_selection import train_test_split\n",
        "from sklearn.model_selection import KFold\n",
        "from xgboost import XGBClassifier"
      ],
      "execution_count": null,
      "outputs": []
    },
    {
      "cell_type": "code",
      "metadata": {
        "id": "P-KJnd-i0Tez"
      },
      "source": [
        "from sklearn.metrics import classification_report\n",
        "from sklearn.metrics import confusion_matrix\n",
        "from sklearn.metrics import accuracy_score\n",
        "\n",
        "\n",
        "def binary_classification_accuracy(actual, pred):\n",
        "    \n",
        "    print(f'Confusion matrix: \\n{confusion_matrix(actual, pred)}')\n",
        "    print(f'Accuracy score: \\n{accuracy_score(actual, pred)}')\n",
        "    print(f'Classification report: \\n{classification_report(actual, pred)}')"
      ],
      "execution_count": null,
      "outputs": []
    },
    {
      "cell_type": "code",
      "metadata": {
        "id": "DQtasvJ70Tez"
      },
      "source": [
        "# Replacing -1 with 0 in the target variable\n",
        "df['Result'] = np.where(df['Result']==-1, 0, df['Result'])\n",
        "target = df['Result']\n",
        "features = df.drop(columns=['Result'])"
      ],
      "execution_count": null,
      "outputs": []
    },
    {
      "cell_type": "code",
      "metadata": {
        "colab": {
          "base_uri": "https://localhost:8080/"
        },
        "id": "NgQ_Xzh80Tez",
        "outputId": "6f9d8a1d-b84b-4cc9-9c2a-ae89037c3940"
      },
      "source": [
        "folds = KFold(n_splits=4, shuffle=True, random_state=42)\n",
        "\n",
        "train_index_list = list()\n",
        "validation_index_list = list()\n",
        "\n",
        "for fold, (train_idx, validation_idx) in enumerate(folds.split(features, target)):\n",
        "    \n",
        "    model = XGBClassifier()\n",
        "    model.fit(np.array(features)[train_idx,:], np.array(target)[train_idx])\n",
        "    predicted_values = model.predict(np.array(features)[validation_idx,:])\n",
        "    print(f'==== FOLD {fold+1} ====')\n",
        "    binary_classification_accuracy(np.array(target)[validation_idx], predicted_values)"
      ],
      "execution_count": null,
      "outputs": [
        {
          "output_type": "stream",
          "text": [
            "==== FOLD 1 ====\n",
            "Confusion matrix: \n",
            "[[1099   84]\n",
            " [  57 1524]]\n",
            "Accuracy score: \n",
            "0.9489869753979739\n",
            "Classification report: \n",
            "              precision    recall  f1-score   support\n",
            "\n",
            "           0       0.95      0.93      0.94      1183\n",
            "           1       0.95      0.96      0.96      1581\n",
            "\n",
            "    accuracy                           0.95      2764\n",
            "   macro avg       0.95      0.95      0.95      2764\n",
            "weighted avg       0.95      0.95      0.95      2764\n",
            "\n",
            "==== FOLD 2 ====\n",
            "Confusion matrix: \n",
            "[[1135   81]\n",
            " [  63 1485]]\n",
            "Accuracy score: \n",
            "0.9479015918958031\n",
            "Classification report: \n",
            "              precision    recall  f1-score   support\n",
            "\n",
            "           0       0.95      0.93      0.94      1216\n",
            "           1       0.95      0.96      0.95      1548\n",
            "\n",
            "    accuracy                           0.95      2764\n",
            "   macro avg       0.95      0.95      0.95      2764\n",
            "weighted avg       0.95      0.95      0.95      2764\n",
            "\n",
            "==== FOLD 3 ====\n",
            "Confusion matrix: \n",
            "[[1155   97]\n",
            " [  41 1471]]\n",
            "Accuracy score: \n",
            "0.9500723589001447\n",
            "Classification report: \n",
            "              precision    recall  f1-score   support\n",
            "\n",
            "           0       0.97      0.92      0.94      1252\n",
            "           1       0.94      0.97      0.96      1512\n",
            "\n",
            "    accuracy                           0.95      2764\n",
            "   macro avg       0.95      0.95      0.95      2764\n",
            "weighted avg       0.95      0.95      0.95      2764\n",
            "\n",
            "==== FOLD 4 ====\n",
            "Confusion matrix: \n",
            "[[1167   80]\n",
            " [  61 1455]]\n",
            "Accuracy score: \n",
            "0.9489685124864278\n",
            "Classification report: \n",
            "              precision    recall  f1-score   support\n",
            "\n",
            "           0       0.95      0.94      0.94      1247\n",
            "           1       0.95      0.96      0.95      1516\n",
            "\n",
            "    accuracy                           0.95      2763\n",
            "   macro avg       0.95      0.95      0.95      2763\n",
            "weighted avg       0.95      0.95      0.95      2763\n",
            "\n"
          ],
          "name": "stdout"
        }
      ]
    },
    {
      "cell_type": "code",
      "metadata": {
        "id": "3qfYP4k60Tez"
      },
      "source": [
        ""
      ],
      "execution_count": null,
      "outputs": []
    }
  ]
}